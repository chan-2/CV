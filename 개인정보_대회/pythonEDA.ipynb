{
 "cells": [
  {
   "cell_type": "code",
   "execution_count": 61,
   "metadata": {},
   "outputs": [],
   "source": [
    "from distutils.command.build_scripts import first_line_re\n",
    "import openpyxl\n",
    "import random\n",
    "import math\n",
    "import pandas as pd"
   ]
  },
  {
   "cell_type": "code",
   "execution_count": 62,
   "metadata": {},
   "outputs": [],
   "source": [
    "wb = openpyxl.load_workbook('./data.xlsx')\n",
    "first_sheet = wb['본선Data']\n",
    "#second_sheet = wb['코드']"
   ]
  },
  {
   "cell_type": "code",
   "execution_count": 63,
   "metadata": {},
   "outputs": [],
   "source": [
    "## 이름 마스킹 + 순열(치환)\n",
    "names =[]\n",
    "for i in range(2,100002):\n",
    "    before_name = list(str(first_sheet['B' + str(i)].value))\n",
    "    after_name = before_name[0] + 'XX'\n",
    "\n",
    "    names.append(after_name)\n",
    "random.shuffle(names)\n",
    "\n",
    "for i in range(2, 100002):\n",
    "    first_sheet['B' + str(i)].value = names[i-2]\n"
   ]
  },
  {
   "cell_type": "code",
   "execution_count": 64,
   "metadata": {},
   "outputs": [],
   "source": [
    "## 학력8, 9를 8로 그리고 학력이수는 무조건 1\n",
    "for i in range(2,100002):\n",
    "    school = int(first_sheet['F' + str(i)].value)\n",
    "    if school == 8 or school == 9:\n",
    "        first_sheet['F' + str(i)].value = 8\n",
    "        first_sheet['G' + str(i)].value = 1"
   ]
  },
  {
   "cell_type": "code",
   "execution_count": 65,
   "metadata": {},
   "outputs": [
    {
     "name": "stdout",
     "output_type": "stream",
     "text": [
      "phase 나이 생년월일 변경\n"
     ]
    }
   ],
   "source": [
    "print(\"phase 나이 생년월일 변경\")\n",
    "## 나이 반올림 해서 처리, 생년월일은 년도는 나이에 따라서 바꾸고,\n",
    "\n",
    "for i in range(2,100002):\n",
    "    before_age = int(first_sheet['D' + str(i)].value)\n",
    "    after_age = round(before_age,-1)\n",
    "    if after_age>=80:\n",
    "        after_age=80\n",
    "    before_year = str(first_sheet['E' + str(i)].value)\n",
    "    before_year = before_year.split('-')\n",
    "    after_year = 2022-after_age\n",
    "    \n",
    "    first_sheet['D' + str(i)].value = after_age\n",
    "    first_sheet['E' + str(i)].value = str(after_year) + '-' + before_year[1] + '-XX'    \n",
    "    \n"
   ]
  },
  {
   "cell_type": "code",
   "execution_count": 66,
   "metadata": {},
   "outputs": [
    {
     "name": "stdout",
     "output_type": "stream",
     "text": [
      "phase 주소 변경\n"
     ]
    }
   ],
   "source": [
    "print(\"phase 주소 변경\")\n",
    "## 주소 변경(ex) 서울특별시 성북구 동소문로24가길 16-4 => 서울특별시 성북구 )\n",
    "## 주소 및 사업체\n",
    "\n",
    "for i in range(2,100002):\n",
    "    before_address = str(first_sheet['H' + str(i)].value)\n",
    "    before_address = before_address.split(' ')\n",
    "    \n",
    "    if(before_address[0][-1]!='시' or (before_address[1][-1]!='구' and before_address[1][-1]!='군')):\n",
    "        print(\"시 군 구 error\")\n",
    "        print(before_address)\n",
    "    first_sheet['H' + str(i)].value = before_address[0] + ' ' + before_address[1]\n",
    "\n",
    "    before_address = str(first_sheet['I' + str(i)].value)\n",
    "    before_address = before_address.split(' ')\n",
    "    \n",
    "    if(before_address[0][-1]!='시' or (before_address[1][-1]!='구' and before_address[1][-1]!='군')):\n",
    "        print(\"시 군 구 error\")\n",
    "        print(before_address)\n",
    "    first_sheet['I' + str(i)].value = before_address[0] + ' ' + before_address[1]\n"
   ]
  },
  {
   "cell_type": "code",
   "execution_count": 67,
   "metadata": {},
   "outputs": [
    {
     "name": "stdout",
     "output_type": "stream",
     "text": [
      "phase 직종코드 변경\n"
     ]
    }
   ],
   "source": [
    "print(\"phase 직종코드 변경\")\n",
    "## 앞두자리만 상위범주화\n",
    "\n",
    "for i in range(2,100002):\n",
    "    before_code = int(first_sheet['J' + str(i)].value)\n",
    "    after_code = before_code//10\n",
    "    first_sheet['J' + str(i)].value = after_code"
   ]
  },
  {
   "cell_type": "code",
   "execution_count": 68,
   "metadata": {},
   "outputs": [
    {
     "name": "stdout",
     "output_type": "stream",
     "text": [
      "phase 규정연월차수&유급휴가 사용일수 변경\n"
     ]
    }
   ],
   "source": [
    "print(\"phase 규정연월차수&유급휴가 사용일수 변경\")\n",
    "## 999랑\n",
    "\n",
    "for i in range(2,100002):\n",
    "    AC = int(first_sheet['AC' + str(i)].value)\n",
    "    AD = str(first_sheet['AD' + str(i)].value)\n",
    "\n",
    "    if(AC==-1):\n",
    "        first_sheet['AC' + str(i)].value=999\n",
    "        if(AD!=\"#NUM!\"):\n",
    "            print(\"#NUM! error\")\n",
    "        first_sheet['AD' + str(i)].value=999"
   ]
  },
  {
   "cell_type": "code",
   "execution_count": 69,
   "metadata": {},
   "outputs": [],
   "source": [
    "## 소득, 자산, 소비액 관련된 것은 메모장 참고해서 각 범위마다 범주화\n",
    "for i in range(2,100002):\n",
    "    if int(first_sheet['R' + str(i)].value) >= 9000000:\n",
    "        first_sheet['R' + str(i)].value = 9000000\n",
    "    elif int(first_sheet['R' + str(i)].value) <= 540000:\n",
    "        first_sheet['R' + str(i)].value = 540000\n",
    "    first_sheet['R' + str(i)].value=(first_sheet['R' + str(i)].value//100000)*100000\n",
    "\n",
    "for i in range(2,100002):\n",
    "    if int(first_sheet['S' + str(i)].value) > 1:\n",
    "        first_sheet['S' + str(i)].value = 332800\n",
    "    else:\n",
    "        first_sheet['S' + str(i)].value = 0\n",
    "    \n",
    "for i in range(2,100002):\n",
    "    if int(first_sheet['T' + str(i)].value) >= 2000000:\n",
    "        first_sheet['T' + str(i)].value = 2000000\n",
    "    elif int(first_sheet['T' + str(i)].value) >= 700000:\n",
    "        first_sheet['T' + str(i)].value = 700000\n",
    "    elif int(first_sheet['T' + str(i)].value) >0:\n",
    "        first_sheet['T' + str(i)].value = 100000\n",
    "\n",
    "\n",
    "for i in range(2,100002):\n",
    "    if int(first_sheet['U' + str(i)].value) >= 1000000:\n",
    "        first_sheet['U' + str(i)].value = 1000000\n",
    "    elif int(first_sheet['U' + str(i)].value) >= 500000:\n",
    "        first_sheet['U' + str(i)].value = 500000\n",
    "    elif int(first_sheet['U' + str(i)].value) > 0:\n",
    "        first_sheet['U' + str(i)].value = 100000\n",
    "\n",
    "for i in range(2,100002):\n",
    "    if int(first_sheet['V' + str(i)].value) >= 5000000:\n",
    "        first_sheet['V' + str(i)].value = 5000000\n",
    "    elif int(first_sheet['V' + str(i)].value)<=600000:\n",
    "        first_sheet['V' + str(i)].value = 600000\n",
    "\n",
    "for i in range(2,100002):\n",
    "    if int(first_sheet['W' + str(i)].value) >= 200000:\n",
    "        first_sheet['W' + str(i)].value = 200000\n",
    "\n",
    "for i in range(2,100002):\n",
    "    if int(first_sheet['X' + str(i)].value) >= 2000000:\n",
    "        first_sheet['X' + str(i)].value = 2000000\n",
    "    \n",
    "for i in range(2,100002):\n",
    "    if int(first_sheet['Y' + str(i)].value) >= 10000:\n",
    "        first_sheet['Y' + str(i)].value = 10000\n",
    "    else:\n",
    "        first_sheet['Y' + str(i)].value = 0\n",
    "\n",
    "for i in range(2,100002):\n",
    "    if int(first_sheet['Z' + str(i)].value) >= 140000000:\n",
    "        first_sheet['Z' + str(i)].value = 140000000\n",
    "    elif int(first_sheet['Z' + str(i)].value) >= 80000000:\n",
    "        first_sheet['Z' + str(i)].value = 80000000\n",
    "    elif int(first_sheet['Z' + str(i)].value) > 40000000:\n",
    "        first_sheet['Z' + str(i)].value = 40000000\n",
    "    elif int(first_sheet['Z' + str(i)].value) > 11000000:\n",
    "        first_sheet['Z' + str(i)].value = 11000000\n",
    "    elif int(first_sheet['Z' + str(i)].value) > 400000:\n",
    "        first_sheet['Z' + str(i)].value = 400000\n",
    "   "
   ]
  },
  {
   "cell_type": "code",
   "execution_count": 70,
   "metadata": {},
   "outputs": [],
   "source": [
    "## 종교 6759 너무 적어서 10 기타 종교로 포함\n",
    "for i in range(2,100002):\n",
    "    religion = int(first_sheet['AB' + str(i)].value)\n",
    "    if religion == 6 or religion == 5 or religion == 7 or religion == 9:\n",
    "        first_sheet['AB' + str(i)].value = 10\n"
   ]
  },
  {
   "cell_type": "code",
   "execution_count": 71,
   "metadata": {},
   "outputs": [
    {
     "name": "stdout",
     "output_type": "stream",
     "text": [
      "phase 저장!!!!\n"
     ]
    }
   ],
   "source": [
    "print(\"phase 저장!!!!\")\n",
    "## 결과 저장\n",
    "wb.save('./out.xlsx')\n",
    "df=pd.read_excel(\"./out.xlsx\",engine=\"openpyxl\")\n",
    "df.to_csv(\"./out.csv\",index=False)"
   ]
  },
  {
   "cell_type": "code",
   "execution_count": null,
   "metadata": {},
   "outputs": [],
   "source": []
  },
  {
   "cell_type": "code",
   "execution_count": null,
   "metadata": {},
   "outputs": [],
   "source": []
  }
 ],
 "metadata": {
  "kernelspec": {
   "display_name": "Python 3.9.7 ('base': conda)",
   "language": "python",
   "name": "python3"
  },
  "language_info": {
   "codemirror_mode": {
    "name": "ipython",
    "version": 3
   },
   "file_extension": ".py",
   "mimetype": "text/x-python",
   "name": "python",
   "nbconvert_exporter": "python",
   "pygments_lexer": "ipython3",
   "version": "3.9.7"
  },
  "orig_nbformat": 4,
  "vscode": {
   "interpreter": {
    "hash": "4d52b7339183c6e2589e0d57b14d6a23c7d580e07969a7ad08f6a7daf002647c"
   }
  }
 },
 "nbformat": 4,
 "nbformat_minor": 2
}
