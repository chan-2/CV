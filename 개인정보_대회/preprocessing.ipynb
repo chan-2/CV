{
 "cells": [
  {
   "cell_type": "code",
   "execution_count": 17,
   "metadata": {},
   "outputs": [],
   "source": [
    "from distutils.command.build_scripts import first_line_re\n",
    "import openpyxl\n",
    "import random\n",
    "import math\n",
    "\n",
    "import base64\n",
    "## Crypto는 pip install pycryptodome\n",
    "from Crypto import Random\n",
    "from Crypto.Cipher import AES\n",
    "import random\n",
    "\n"
   ]
  },
  {
   "cell_type": "code",
   "execution_count": 18,
   "metadata": {},
   "outputs": [],
   "source": [
    "\n",
    "BS = 16\n",
    "pad = lambda s: s + (BS - len(s.encode('utf-8')) % BS) * chr(BS - len(s.encode('utf-8')) % BS)\n",
    "unpad = lambda s : s[:-ord(s[len(s)-1:])]\n",
    "\n",
    "class AESCipher:\n",
    "    def __init__(self, key):\n",
    "        self.key = bytes.fromhex(key.zfill(32))\n",
    "    \n",
    "    # 이름처럼 다른 사람이랑 같을 수도 있는 걸 \n",
    "    # 아웃풋을 다르게 보이게 하기 위함\n",
    "    def encrypt_with_iv(self, raw, iv):\n",
    "        raw = pad(raw)\n",
    "        cipher = AES.new(self.key, AES.MODE_CBC, iv)\n",
    "        return base64.b64encode(cipher.encrypt(raw.encode('utf-8')))\n",
    "    \n",
    "    def decrypt_with_iv(self, enc, iv):\n",
    "        enc = base64.b64decode(enc)\n",
    "        cipher = AES.new(self.key, AES.MODE_CBC, iv)\n",
    "        return cipher.decrypt(enc).decode('utf-8')\n",
    "    \n",
    "    # ID 처럼 고유 값을 암호화할 경우 쓸 함수\n",
    "    def encrypt_without_iv(self, raw):\n",
    "        raw = pad(raw)\n",
    "        cipher = AES.new(self.key, AES.MODE_ECB)\n",
    "        return base64.b64encode(cipher.encrypt( raw.encode('utf-8')))\n",
    "    \n",
    "    def decrypt_without_iv(self, enc):\n",
    "        enc = base64.b64decode(enc)\n",
    "        cipher = AES.new(self.key, AES.MODE_ECB)\n",
    "        return cipher.decrypt(enc).decode('utf-8')\n"
   ]
  },
  {
   "cell_type": "code",
   "execution_count": 19,
   "metadata": {},
   "outputs": [
    {
     "name": "stdout",
     "output_type": "stream",
     "text": [
      "phase 1\n"
     ]
    }
   ],
   "source": [
    "\n",
    "## 엑셀 여는 코드\n",
    "wb = openpyxl.load_workbook('./data.xlsx')\n",
    "first_sheet = wb['본선Data']\n",
    "\n",
    "print(\"phase 1\")\n",
    "# ## 주소 변경(ex) 서울특별시 성북구 동소문로24가길 16-4 => 서울특별시 성북구 )\n",
    "## 집 주소랑 사업체 주소 둘 다 처리\n",
    "for i in range(100000):\n",
    "    old_address = str(first_sheet['H' + str(i + 2)].value)\n",
    "    old_address = old_address.split(' ')\n",
    "    first_sheet['H' + str(i + 2)].value = old_address[0] + ' ' + old_address[1]\n",
    "    \n",
    "    old_address = str(first_sheet['I' + str(i + 2)].value)\n",
    "    old_address = old_address.split(' ')\n",
    "    first_sheet['I' + str(i + 2)].value = old_address[0] + ' ' + old_address[1]\n"
   ]
  },
  {
   "cell_type": "code",
   "execution_count": 20,
   "metadata": {},
   "outputs": [
    {
     "name": "stdout",
     "output_type": "stream",
     "text": [
      "phase 2\n"
     ]
    }
   ],
   "source": [
    "\n",
    "print(\"phase 2\")\n",
    "## 나이 0~3이면 내림 4~6은 5로 7~9는 올림\n",
    "## 만약 만나이 조정 결과가 85 이상이면 85으로 바꿈\n",
    "## 그것에 맞추어서 생년월일의 년도 갱신\n",
    "for i in range(100000):\n",
    "    degree = int(first_sheet['F' + str(i + 2)].value)\n",
    "    if degree == 8 or degree == 9:\n",
    "        first_sheet['F' + str(i + 2)].value = random.randrange(8, 10)\n",
    "        \n"
   ]
  },
  {
   "cell_type": "code",
   "execution_count": 21,
   "metadata": {},
   "outputs": [
    {
     "name": "stdout",
     "output_type": "stream",
     "text": [
      "phase 3\n"
     ]
    }
   ],
   "source": [
    "\n",
    "print(\"phase 3\")\n",
    "## 나이 0~3이면 내림 4~6은 5로 7~9는 올림\n",
    "## 만약 만나이 조정 결과가 85 이상이면 85으로 바꿈\n",
    "## 그것에 맞추어서 생년월일의 년도 갱신\n",
    "for i in range(100000):\n",
    "    age = int(first_sheet['D' + str(i + 2)].value)\n",
    "    if age % 10 < 4:\n",
    "        age = (age // 10) * 10\n",
    "    elif age % 10 > 6:\n",
    "        age = (age // 10 + 1) * 10\n",
    "    else:\n",
    "        age = ((age // 10) * 10) + 5\n",
    "        \n",
    "    if age > 85:\n",
    "        age = 85\n",
    "    year = 2022 - age\n",
    "    date = str(first_sheet['E' + str(i + 2)].value).split('-')\n",
    "    month = date[1]\n",
    "    day = date[2]\n",
    "    \n",
    "    first_sheet['D' + str(i + 2)].value = age\n",
    "    first_sheet['E' + str(i + 2)].value = str(year) + '-' + date[1] + '-' + date[2]\n"
   ]
  },
  {
   "cell_type": "code",
   "execution_count": 22,
   "metadata": {},
   "outputs": [
    {
     "name": "stdout",
     "output_type": "stream",
     "text": [
      "phase 4\n"
     ]
    }
   ],
   "source": [
    "\n",
    "print(\"phase 4\")\n",
    "## 이름은 iv를 일련번호로 넣어서 사용한 AES-CBC로 암호화\n",
    "## 키는 원래 무작위로 넣어야 하지만 여기서는 편의로\n",
    "## key1 = 'fcb467442aed13872e3d7e33d29448c2' 일련 번호를 iv로 만들때 사용 설정함\n",
    "## key2 = '682cbeeb75ad969468c938e71c7a1dbe' 이름을 암호화 할때 키로 설정\n",
    "key1 = 'fcb467442aed13872e3d7e33d29448c2'\n",
    "key2 = '682cbeeb75ad969468c938e71c7a1dbe'\n",
    "for i in range(100000):\n",
    "    \n",
    "    ID = str(first_sheet['A' + str(i + 2)].value)\n",
    "    name = str(first_sheet['B' + str(i + 2)].value)\n",
    "    ## IV 없이 돌리는 코드\n",
    "    encrypted_ID = AESCipher(key1).encrypt_without_iv(ID)\n",
    "\n",
    "    ## IV를 만들어내는 코드\n",
    "    hex_encrypted = bytes.hex(encrypted_ID)\n",
    "    if len(hex_encrypted) < 32:\n",
    "        hex_encrypted = hex_encrypted.zfill(32)\n",
    "    else:\n",
    "        hex_encrypted = hex_encrypted[0:32]\n",
    "    iv = bytes.fromhex(hex_encrypted)\n",
    "    ## IV 있이 돌리는 코드\n",
    "    encrypted_name = AESCipher(key2).encrypt_with_iv(name, iv)\n",
    "\n",
    "    ## bytes를 utf-8 인코딩으로 string으로 돌리는 방법\n",
    "    first_sheet['B' + str(i + 2)].value = str(encrypted_name, 'utf-8')\n"
   ]
  },
  {
   "cell_type": "code",
   "execution_count": 23,
   "metadata": {},
   "outputs": [
    {
     "name": "stdout",
     "output_type": "stream",
     "text": [
      "phase 5\n"
     ]
    }
   ],
   "source": [
    "\n",
    "print(\"phase 5\")\n",
    "## 결과 저장\n",
    "import pandas as pd\n",
    "wb.save('./pseudo.xlsx')\n",
    "df=pd.read_excel(\"./pseudo.xlsx\",engine=\"openpyxl\")\n",
    "df.to_csv(\"./pseudo.csv\",index=False)\n",
    "\n"
   ]
  }
 ],
 "metadata": {
  "kernelspec": {
   "display_name": "Python 3.9.7 ('base': conda)",
   "language": "python",
   "name": "python3"
  },
  "language_info": {
   "codemirror_mode": {
    "name": "ipython",
    "version": 3
   },
   "file_extension": ".py",
   "mimetype": "text/x-python",
   "name": "python",
   "nbconvert_exporter": "python",
   "pygments_lexer": "ipython3",
   "version": "3.9.7"
  },
  "orig_nbformat": 4,
  "vscode": {
   "interpreter": {
    "hash": "4d52b7339183c6e2589e0d57b14d6a23c7d580e07969a7ad08f6a7daf002647c"
   }
  }
 },
 "nbformat": 4,
 "nbformat_minor": 2
}
